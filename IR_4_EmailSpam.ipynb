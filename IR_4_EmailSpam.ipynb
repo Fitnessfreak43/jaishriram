{
 "cells": [
  {
   "cell_type": "code",
   "execution_count": 48,
   "id": "0b5cbc4c",
   "metadata": {},
   "outputs": [
    {
     "name": "stdout",
     "output_type": "stream",
     "text": [
      "Number of rows in the total set: 5754\n",
      "Number of rows in the training set: 4315\n",
      "Number of rows in the test set: 1439\n"
     ]
    }
   ],
   "source": [
    "import pandas as pd\n",
    "from sklearn.model_selection import train_test_split\n",
    "from sklearn.feature_extraction.text import CountVectorizer\n",
    "from sklearn.naive_bayes import MultinomialNB\n",
    "from sklearn.metrics import accuracy_score, precision_score, recall_score, f1_score\n",
    "\n",
    "# Step 1: Load the dataset\n",
    "data = pd.read_csv('emails.csv')\n",
    "\n",
    "X_train, X_test, y_train, y_test = train_test_split(data['text'], data['label'], random_state=1)\n",
    "\n",
    "print('Number of rows in the total set: {}'.format(data.shape[0]))\n",
    "print('Number of rows in the training set: {}'.format(X_train.shape[0]))\n",
    "print('Number of rows in the test set: {}'.format(X_test.shape[0]))"
   ]
  },
  {
   "cell_type": "code",
   "execution_count": 49,
   "id": "21006b00",
   "metadata": {},
   "outputs": [
    {
     "name": "stdout",
     "output_type": "stream",
     "text": [
      "Accuracy score: 0.990271021542738\n",
      "Precision score: 0.9827089337175793\n",
      "Recall score: 0.9770773638968482\n",
      "F1 score: 0.9798850574712644\n"
     ]
    }
   ],
   "source": [
    "# Instantiate the CountVectorizer method\n",
    "count_vector = CountVectorizer()\n",
    "\n",
    "# Fit the training data and then return the matrix\n",
    "training_data = count_vector.fit_transform(X_train)\n",
    "\n",
    "# Transform testing data and return the matrix. Note we are not fitting the testing data into the CountVectorizer()\n",
    "testing_data = count_vector.transform(X_test)\n",
    "\n",
    "naive_bayes = MultinomialNB()\n",
    "naive_bayes.fit(training_data, y_train)\n",
    "predictions = naive_bayes.predict(testing_data)\n",
    "\n",
    "print('Accuracy score: {}'.format(accuracy_score(y_test, predictions)))\n",
    "print('Precision score: {}'.format(precision_score(y_test, predictions)))\n",
    "print('Recall score: {}'.format(recall_score(y_test, predictions)))\n",
    "print('F1 score: {}'.format(f1_score(y_test, predictions)))"
   ]
  },
  {
   "cell_type": "code",
   "execution_count": 50,
   "id": "253836c1",
   "metadata": {},
   "outputs": [
    {
     "name": "stdout",
     "output_type": "stream",
     "text": [
      "Example 1: Not Spam\n",
      "Example 2: Spam\n",
      "Example 3: Spam\n",
      "Example 4: Not Spam\n",
      "Example 5: Not Spam\n",
      "Example 6: Spam\n"
     ]
    }
   ],
   "source": [
    "# Function to classify an email text as Spam or Not Spam\n",
    "def classify_email(text):\n",
    "    text_vector = tfidf_vectorizer.transform(text)\n",
    "    prediction = naive_bayes.predict(text_vector)\n",
    "    return \"Spam\" if prediction[0] == 1 else \"Not Spam\"\n",
    "\n",
    "# Examples of email texts\n",
    "email_text_1 = [\"Meeting Agenda for Tomorrow\"]  # Example 1: Not Spam\n",
    "email_text_2 = [\"Subject: Hi Walid,\\n\\nDo you listen to music on Spotify...\t\"] # Example 2: Spam\n",
    "email_text_3 = [\"Discogs has recently detected an increase in scammers in the Marketplace, and weâ€™re taking action to address the issue. New sellers on Discogs will undergo a waiting period to reduce fraud attempts. We are committed to maintaining a safe and trustworthy marketplace for independent buyers and sellers. If you see suspicious activity, please report it immediately to Discogs Support through this form. Learn more about how to recognize fraud in our guide to best practices for buying safely on Discogs: Safe Buying Tips\"] # Example 3: Not Spam\n",
    "email_text_4 = [\"Subject: Important Updates on Your Account\"] # Example 4: Spam\n",
    "email_text_5 = [\"Subject: Dinner Plans for This Friday\"] # Example 5: Not Spam\n",
    "email_text_6 = [\"Subject: Claim Your Prize Now!\"] # Example 6: Spam\n",
    "\n",
    "examples = [email_text_1, email_text_2, email_text_3, email_text_4, email_text_5, email_text_6]\n",
    "\n",
    "for i, example in enumerate(examples):\n",
    "    result = classify_email(example)\n",
    "    print(f\"Example {i+1}: {result}\")"
   ]
  },
  {
   "cell_type": "code",
   "execution_count": null,
   "id": "a168b64b",
   "metadata": {},
   "outputs": [],
   "source": []
  },
  {
   "cell_type": "code",
   "execution_count": null,
   "id": "7997d67d",
   "metadata": {},
   "outputs": [],
   "source": []
  },
  {
   "cell_type": "code",
   "execution_count": null,
   "id": "650cf08e",
   "metadata": {},
   "outputs": [],
   "source": []
  },
  {
   "cell_type": "code",
   "execution_count": null,
   "id": "2fe5251f",
   "metadata": {},
   "outputs": [],
   "source": []
  }
 ],
 "metadata": {
  "kernelspec": {
   "display_name": "Python 3 (ipykernel)",
   "language": "python",
   "name": "python3"
  },
  "language_info": {
   "codemirror_mode": {
    "name": "ipython",
    "version": 3
   },
   "file_extension": ".py",
   "mimetype": "text/x-python",
   "name": "python",
   "nbconvert_exporter": "python",
   "pygments_lexer": "ipython3",
   "version": "3.9.12"
  }
 },
 "nbformat": 4,
 "nbformat_minor": 5
}
