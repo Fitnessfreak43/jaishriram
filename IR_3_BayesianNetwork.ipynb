{
 "cells": [
  {
   "cell_type": "code",
   "execution_count": 1,
   "id": "44da6803",
   "metadata": {},
   "outputs": [],
   "source": [
    "import numpy as np\n",
    "import pandas as pd\n",
    "from pgmpy.estimators import MaximumLikelihoodEstimator\n",
    "from pgmpy.models import BayesianNetwork\n",
    "from pgmpy.inference import VariableElimination"
   ]
  },
  {
   "cell_type": "code",
   "execution_count": 2,
   "id": "26935ece",
   "metadata": {},
   "outputs": [
    {
     "data": {
      "text/html": [
       "<div>\n",
       "<style scoped>\n",
       "    .dataframe tbody tr th:only-of-type {\n",
       "        vertical-align: middle;\n",
       "    }\n",
       "\n",
       "    .dataframe tbody tr th {\n",
       "        vertical-align: top;\n",
       "    }\n",
       "\n",
       "    .dataframe thead th {\n",
       "        text-align: right;\n",
       "    }\n",
       "</style>\n",
       "<table border=\"1\" class=\"dataframe\">\n",
       "  <thead>\n",
       "    <tr style=\"text-align: right;\">\n",
       "      <th></th>\n",
       "      <th>age</th>\n",
       "      <th>Gender</th>\n",
       "      <th>Family</th>\n",
       "      <th>diet</th>\n",
       "      <th>Lifestyle</th>\n",
       "      <th>cholestrol</th>\n",
       "      <th>heartdisease</th>\n",
       "    </tr>\n",
       "  </thead>\n",
       "  <tbody>\n",
       "    <tr>\n",
       "      <th>0</th>\n",
       "      <td>0</td>\n",
       "      <td>0</td>\n",
       "      <td>1</td>\n",
       "      <td>1</td>\n",
       "      <td>3</td>\n",
       "      <td>0</td>\n",
       "      <td>1</td>\n",
       "    </tr>\n",
       "    <tr>\n",
       "      <th>1</th>\n",
       "      <td>0</td>\n",
       "      <td>1</td>\n",
       "      <td>1</td>\n",
       "      <td>1</td>\n",
       "      <td>3</td>\n",
       "      <td>0</td>\n",
       "      <td>1</td>\n",
       "    </tr>\n",
       "    <tr>\n",
       "      <th>2</th>\n",
       "      <td>1</td>\n",
       "      <td>0</td>\n",
       "      <td>0</td>\n",
       "      <td>0</td>\n",
       "      <td>2</td>\n",
       "      <td>1</td>\n",
       "      <td>1</td>\n",
       "    </tr>\n",
       "    <tr>\n",
       "      <th>3</th>\n",
       "      <td>4</td>\n",
       "      <td>0</td>\n",
       "      <td>1</td>\n",
       "      <td>1</td>\n",
       "      <td>3</td>\n",
       "      <td>2</td>\n",
       "      <td>0</td>\n",
       "    </tr>\n",
       "    <tr>\n",
       "      <th>4</th>\n",
       "      <td>3</td>\n",
       "      <td>1</td>\n",
       "      <td>1</td>\n",
       "      <td>0</td>\n",
       "      <td>0</td>\n",
       "      <td>2</td>\n",
       "      <td>0</td>\n",
       "    </tr>\n",
       "  </tbody>\n",
       "</table>\n",
       "</div>"
      ],
      "text/plain": [
       "   age  Gender  Family  diet  Lifestyle  cholestrol  heartdisease\n",
       "0    0       0       1     1          3           0             1\n",
       "1    0       1       1     1          3           0             1\n",
       "2    1       0       0     0          2           1             1\n",
       "3    4       0       1     1          3           2             0\n",
       "4    3       1       1     0          0           2             0"
      ]
     },
     "execution_count": 2,
     "metadata": {},
     "output_type": "execute_result"
    }
   ],
   "source": [
    "df = pd.read_csv('heartdisease.csv')\n",
    "df.head()"
   ]
  },
  {
   "cell_type": "code",
   "execution_count": 7,
   "id": "a00b8edb",
   "metadata": {},
   "outputs": [
    {
     "name": "stdout",
     "output_type": "stream",
     "text": [
      "Attributes\tDatatypes\n"
     ]
    },
    {
     "data": {
      "text/plain": [
       "age             int64\n",
       "Gender          int64\n",
       "Family          int64\n",
       "diet            int64\n",
       "Lifestyle       int64\n",
       "cholestrol      int64\n",
       "heartdisease    int64\n",
       "dtype: object"
      ]
     },
     "execution_count": 7,
     "metadata": {},
     "output_type": "execute_result"
    }
   ],
   "source": [
    "print('Attributes\\tDatatypes')\n",
    "df.dtypes"
   ]
  },
  {
   "cell_type": "code",
   "execution_count": 24,
   "id": "0ee82f5f",
   "metadata": {},
   "outputs": [],
   "source": [
    "model = BayesianNetwork([('age', 'Lifestyle'),\n",
    "                         ('Gender', 'Lifestyle'),\n",
    "                         ('Family', 'heartdisease'),\n",
    "                         ('diet', 'cholestrol'),\n",
    "                         ('Lifestyle', 'diet'),\n",
    "                         ('cholestrol', 'heartdisease'),\n",
    "                         ('diet', 'cholestrol')])"
   ]
  },
  {
   "cell_type": "code",
   "execution_count": 25,
   "id": "6320e5f7",
   "metadata": {},
   "outputs": [],
   "source": [
    "model.fit(df, estimator=MaximumLikelihoodEstimator)"
   ]
  },
  {
   "cell_type": "code",
   "execution_count": 21,
   "id": "6abf24f9",
   "metadata": {},
   "outputs": [],
   "source": [
    "df_inference = VariableElimination(model)"
   ]
  },
  {
   "cell_type": "code",
   "execution_count": 29,
   "id": "60108271",
   "metadata": {},
   "outputs": [
    {
     "name": "stdout",
     "output_type": "stream",
     "text": [
      "+-----------------+---------------------+\n",
      "| heartdisease    |   phi(heartdisease) |\n",
      "+=================+=====================+\n",
      "| heartdisease(0) |              0.5241 |\n",
      "+-----------------+---------------------+\n",
      "| heartdisease(1) |              0.4759 |\n",
      "+-----------------+---------------------+\n"
     ]
    }
   ],
   "source": [
    "new_data_instance = {\n",
    "    'age': 1,\n",
    "    'Gender': 1,\n",
    "    'Family': 1,\n",
    "    'diet': 1,\n",
    "} # Add or remove parameters as required\n",
    "\n",
    "# Perform inference for diagnosis\n",
    "result = df_inference.query(variables=['heartdisease'], evidence=new_data_instance)\n",
    "print(result)"
   ]
  },
  {
   "cell_type": "markdown",
   "id": "875c988b",
   "metadata": {},
   "source": [
    "## Explanation\n",
    "The Bayesian network you provided is a graphical model that represents conditional dependencies among a set of random variables. Each node in the graph represents a random variable, and the edges between nodes indicate probabilistic dependencies between them. In your provided Bayesian network model:\n",
    "\n",
    "- `age` and `Gender` influence the `Lifestyle` of a person.\n",
    "- `Family` influences the likelihood of `heartdisease`.\n",
    "- `diet` influences `cholestrol`.\n",
    "- `Lifestyle` influences `diet`.\n",
    "- `cholestrol` influences the likelihood of `heartdisease`.\n",
    "- `diet` also influences `cholestrol`.\n",
    "\n",
    "Here's an explanation of how it works:\n",
    "\n",
    "1. **Model Structure**:\n",
    "   - The nodes in the network represent random variables. For example, `age` can take on different values, and `Lifestyle` can take on different values based on a person's age and gender.\n",
    "\n",
    "2. **Conditional Dependencies**:\n",
    "   - The edges (arrows) between nodes represent conditional dependencies. For example, `age` and `Gender` influence the random variable `Lifestyle`. This means that a person's lifestyle is dependent on their age and gender.\n",
    "\n",
    "3. **Learning Parameters**:\n",
    "   - To use this Bayesian network, you need to learn the conditional probability distributions for each node based on your dataset. The model's structure defines which variables are conditionally dependent on others. For example, you can learn the conditional probability distribution of `cholestrol` given `diet`.\n",
    "\n",
    "4. **Inference**:\n",
    "   - After learning the model's parameters, you can perform inference, such as making predictions or diagnoses. You can query the network to find the probability of a specific variable given evidence on other variables.\n",
    "\n",
    "For example, you can use this network to answer questions like:\n",
    "- Given a person's age, gender, and family history, what is the probability of them having heart disease (`heartdisease`)?\n",
    "- Given a person's lifestyle and diet, what is the probability of their cholestrol level (`cholestrol`)?\n",
    "\n",
    "To use this Bayesian network, you would need a library that supports Bayesian networks, like `pgmpy` in Python. You would define the structure, learn the conditional probability distributions from data, and then perform inference to make predictions or diagnoses based on the learned model."
   ]
  },
  {
   "cell_type": "code",
   "execution_count": null,
   "id": "e2119d11",
   "metadata": {},
   "outputs": [],
   "source": []
  },
  {
   "cell_type": "code",
   "execution_count": null,
   "id": "77b453d6",
   "metadata": {},
   "outputs": [],
   "source": []
  }
 ],
 "metadata": {
  "kernelspec": {
   "display_name": "Python 3 (ipykernel)",
   "language": "python",
   "name": "python3"
  },
  "language_info": {
   "codemirror_mode": {
    "name": "ipython",
    "version": 3
   },
   "file_extension": ".py",
   "mimetype": "text/x-python",
   "name": "python",
   "nbconvert_exporter": "python",
   "pygments_lexer": "ipython3",
   "version": "3.9.12"
  }
 },
 "nbformat": 4,
 "nbformat_minor": 5
}
