{
 "cells": [
  {
   "cell_type": "code",
   "execution_count": 13,
   "id": "1121a368",
   "metadata": {},
   "outputs": [
    {
     "name": "stdout",
     "output_type": "stream",
     "text": [
      "GC Content: 49.78%\n",
      "Motif 'CGT' found at positions: [10, 18]\n",
      "Coding Regions:\n",
      "Start: 0, End: 27\n"
     ]
    }
   ],
   "source": [
    "# Read the DNA sequence from the file\n",
    "dna_sequence = open(\"dna_sequence.txt\", \"r\").read().strip()\n",
    "\n",
    "# Calculate GC content\n",
    "gc_content = (dna_sequence.count(\"G\") + dna_sequence.count(\"C\")) / len(dna_sequence) * 100\n",
    "print(f\"GC Content: {gc_content:.2f}%\")\n",
    "\n",
    "# Find motifs\n",
    "motif_to_find = \"CGT\"\n",
    "motif_positions = [i for i in range(len(dna_sequence)) if dna_sequence.startswith(motif_to_find, i)]\n",
    "print(f\"Motif '{motif_to_find}' found at positions: {motif_positions}\")\n",
    "\n",
    "# Find coding regions\n",
    "start_codon = \"ATG\"\n",
    "stop_codons = [\"TAA\", \"TAG\", \"TGA\"]\n",
    "coding_regions = []\n",
    "\n",
    "i = 0\n",
    "while i < len(dna_sequence):\n",
    "    start = dna_sequence.find(start_codon, i)\n",
    "    if start == -1:\n",
    "        break\n",
    "    j = start + 3\n",
    "    while j < len(dna_sequence):\n",
    "        codon = dna_sequence[j:j + 3]\n",
    "        if codon in stop_codons:\n",
    "            end = j + 3\n",
    "            coding_regions.append((start, end))\n",
    "            i = j + 3\n",
    "            break\n",
    "        j += 3\n",
    "    else:\n",
    "        i = start + 1\n",
    "\n",
    "if coding_regions:\n",
    "    print(\"Coding Regions:\")\n",
    "    for start, end in coding_regions:\n",
    "        print(f\"Start: {start}, End: {end}\")"
   ]
  },
  {
   "cell_type": "code",
   "execution_count": null,
   "id": "cc294b8e",
   "metadata": {},
   "outputs": [],
   "source": []
  }
 ],
 "metadata": {
  "kernelspec": {
   "display_name": "Python 3 (ipykernel)",
   "language": "python",
   "name": "python3"
  },
  "language_info": {
   "codemirror_mode": {
    "name": "ipython",
    "version": 3
   },
   "file_extension": ".py",
   "mimetype": "text/x-python",
   "name": "python",
   "nbconvert_exporter": "python",
   "pygments_lexer": "ipython3",
   "version": "3.9.12"
  }
 },
 "nbformat": 4,
 "nbformat_minor": 5
}
