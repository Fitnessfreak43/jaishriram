{
 "cells": [
  {
   "cell_type": "code",
   "execution_count": 1,
   "id": "a1343094",
   "metadata": {},
   "outputs": [],
   "source": [
    "import numpy as np\n",
    "import matplotlib.pyplot as plt\n",
    "from sklearn import datasets\n",
    "from sklearn.cluster import AgglomerativeClustering\n",
    "from scipy.cluster.hierarchy import dendrogram, linkage\n",
    "\n",
    "# Load the Iris dataset\n",
    "iris = datasets.load_iris()\n",
    "X = iris.data\n",
    "\n",
    "# Define the available linkage methods\n",
    "linkage_methods = {\n",
    "    1: 'ward',\n",
    "    2: 'complete',\n",
    "    3: 'average',\n",
    "    4: 'single'\n",
    "}"
   ]
  },
  {
   "cell_type": "code",
   "execution_count": null,
   "id": "3e07782e",
   "metadata": {
    "scrolled": false
   },
   "outputs": [
    {
     "name": "stdout",
     "output_type": "stream",
     "text": [
      "Choose a linkage method:\n",
      "Press 1 for ward linkage\n",
      "Press 2 for complete linkage\n",
      "Press 3 for average linkage\n",
      "Press 4 for single linkage\n"
     ]
    }
   ],
   "source": [
    "# Get user's choice for the linkage method\n",
    "print(\"Choose a linkage method:\")\n",
    "for key, method in linkage_methods.items():\n",
    "    print(f\"Press {key} for {method} linkage\")\n",
    "\n",
    "choice = int(input(\"Enter your choice: \"))\n",
    "\n",
    "# Perform hierarchical clustering based on user's choice\n",
    "if choice in linkage_methods:\n",
    "    method = linkage_methods[choice]\n",
    "\n",
    "    # Calculate the linkage matrix\n",
    "    Z = linkage(X, method)\n",
    "\n",
    "    # Create dendrogram\n",
    "    plt.figure(figsize=(12, 6))\n",
    "    plt.title(f'Dendrogram for {method} linkage')\n",
    "    dendrogram(Z, labels=iris.target_names[iris.target], orientation='top')\n",
    "    plt.show()\n",
    "\n",
    "    # Perform clustering using AgglomerativeClustering\n",
    "    n_clusters = len(iris.target_names)\n",
    "    clustering = AgglomerativeClustering(n_clusters=n_clusters, linkage=method)\n",
    "    clustering.fit(X)\n",
    "\n",
    "    # Print cluster assignments for each data point\n",
    "    cluster_labels = clustering.labels_\n",
    "    for i, label in enumerate(cluster_labels):\n",
    "        print(f\"Data point {i} is assigned to cluster {label} ({iris.target_names[label]})\")\n",
    "else:\n",
    "    print(\"Invalid choice. Please choose a valid linkage method.\")"
   ]
  },
  {
   "cell_type": "markdown",
   "id": "528f3d46",
   "metadata": {},
   "source": [
    "## Agglomerative Clustering:\n",
    "\n",
    "Agglomerative Clustering is a hierarchical clustering algorithm used to group data points into clusters.\n",
    "It starts with each data point as a single cluster and iteratively merges the closest clusters until a single cluster or a predefined number of clusters is reached.\n",
    "\n",
    "## Linkage and Dendrogram:\n",
    "\n",
    "Linkage in hierarchical clustering defines how the distance between clusters is calculated. It determines which clusters to merge in each step.\n",
    "\n",
    "A Dendrogram is a tree-like diagram that represents the hierarchical clustering process, showing the merging of clusters at different levels. It helps to visualize the relationships between data points and clusters.\n",
    "\n",
    "## Types of Linkage and Differences:\n",
    "\n",
    "There are several types of linkage methods, including:\n",
    "Ward Linkage: Minimizes the variance when merging clusters. It often results in equally sized, compact clusters.\n",
    "Complete Linkage: Computes the maximum pairwise distance between data points in different clusters. It can lead to chaining.\n",
    "Average Linkage: Computes the average pairwise distance between data points in different clusters. It is less sensitive to outliers.\n",
    "Single Linkage: Computes the minimum pairwise distance between data points in different clusters. It can create long, trailing clusters.\n",
    "\n",
    "The main difference between these linkage methods is how they measure the distance between clusters, which affects the shape and structure of the resulting clusters. Ward is often preferred for balanced, well-separated clusters, while single linkage can create elongated clusters. The choice depends on the data and the specific problem."
   ]
  },
  {
   "cell_type": "code",
   "execution_count": null,
   "id": "21c8ed9e",
   "metadata": {},
   "outputs": [],
   "source": []
  }
 ],
 "metadata": {
  "kernelspec": {
   "display_name": "Python 3 (ipykernel)",
   "language": "python",
   "name": "python3"
  },
  "language_info": {
   "codemirror_mode": {
    "name": "ipython",
    "version": 3
   },
   "file_extension": ".py",
   "mimetype": "text/x-python",
   "name": "python",
   "nbconvert_exporter": "python",
   "pygments_lexer": "ipython3",
   "version": "3.9.12"
  }
 },
 "nbformat": 4,
 "nbformat_minor": 5
}
