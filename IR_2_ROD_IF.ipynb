{
 "cells": [
  {
   "cell_type": "code",
   "execution_count": 3,
   "id": "3529adc7",
   "metadata": {},
   "outputs": [
    {
     "data": {
      "text/plain": [
       "{'this': [1, 3],\n",
       " 'is': [1, 2, 3, 3],\n",
       " 'the': [1, 2, 3, 3],\n",
       " 'first': [1, 3],\n",
       " 'document.': [1, 3],\n",
       " 'it': [1, 2, 3],\n",
       " 'contains': [1, 2],\n",
       " 'some': [1, 2],\n",
       " 'text.': [1, 2],\n",
       " 'second': [2],\n",
       " 'document': [2],\n",
       " 'longer.': [2],\n",
       " 'also': [2],\n",
       " 'third': [3],\n",
       " 'different': [3],\n",
       " 'from': [3],\n",
       " 'two.': [3]}"
      ]
     },
     "execution_count": 3,
     "metadata": {},
     "output_type": "execute_result"
    }
   ],
   "source": [
    "documents = {\n",
    "    1: \"This is the first document. It contains some text.\",\n",
    "    2: \"The second document is longer. It also contains some text.\",\n",
    "    3: \"This is the third document. It is different from the first two.\",\n",
    "}\n",
    "\n",
    "# Build the inverted index\n",
    "inverted_index = {}\n",
    "for doc_id, text in documents.items():\n",
    "    words = text.lower().split()\n",
    "    for word in words:\n",
    "        if word not in inverted_index:\n",
    "            inverted_index[word] = []\n",
    "        inverted_index[word].append(doc_id)\n",
    "inverted_index"
   ]
  },
  {
   "cell_type": "code",
   "execution_count": 4,
   "id": "6e90e74d",
   "metadata": {},
   "outputs": [],
   "source": [
    "# Function to retrieve documents for a query\n",
    "def retrieve_documents(query):\n",
    "    query_terms = query.lower().split()\n",
    "    matching_docs = set()\n",
    "    \n",
    "    for term in query_terms:\n",
    "        if term in inverted_index:\n",
    "            matching_docs.update(inverted_index[term])\n",
    "\n",
    "    if matching_docs:\n",
    "        print(f\"Matching documents for query '{query}':\")\n",
    "        for doc_id in matching_docs:\n",
    "            print(f\"Document {doc_id}: {documents[doc_id]}\")\n",
    "    else:\n",
    "        print(f\"No matching documents found for query '{query}'.\")"
   ]
  },
  {
   "cell_type": "code",
   "execution_count": 5,
   "id": "76548d88",
   "metadata": {},
   "outputs": [
    {
     "name": "stdout",
     "output_type": "stream",
     "text": [
      "Matching documents for query 'document contains text':\n",
      "Document 1: This is the first document. It contains some text.\n",
      "Document 2: The second document is longer. It also contains some text.\n"
     ]
    }
   ],
   "source": [
    "# Example query\n",
    "query = \"document contains text\"\n",
    "retrieve_documents(query)"
   ]
  },
  {
   "cell_type": "code",
   "execution_count": null,
   "id": "a2fdeee2",
   "metadata": {},
   "outputs": [],
   "source": []
  }
 ],
 "metadata": {
  "kernelspec": {
   "display_name": "Python 3 (ipykernel)",
   "language": "python",
   "name": "python3"
  },
  "language_info": {
   "codemirror_mode": {
    "name": "ipython",
    "version": 3
   },
   "file_extension": ".py",
   "mimetype": "text/x-python",
   "name": "python",
   "nbconvert_exporter": "python",
   "pygments_lexer": "ipython3",
   "version": "3.9.12"
  }
 },
 "nbformat": 4,
 "nbformat_minor": 5
}
