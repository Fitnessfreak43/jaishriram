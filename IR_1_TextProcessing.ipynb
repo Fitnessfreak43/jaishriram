{
 "cells": [
  {
   "cell_type": "code",
   "execution_count": 10,
   "id": "1a195ae4",
   "metadata": {
    "scrolled": false
   },
   "outputs": [
    {
     "name": "stderr",
     "output_type": "stream",
     "text": [
      "[nltk_data] Downloading package stopwords to\n",
      "[nltk_data]     C:\\Users\\user\\AppData\\Roaming\\nltk_data...\n",
      "[nltk_data]   Package stopwords is already up-to-date!\n"
     ]
    },
    {
     "data": {
      "text/plain": [
       "['Text',\n",
       " 'preprocessing',\n",
       " 'is',\n",
       " 'an',\n",
       " 'essential',\n",
       " 'step',\n",
       " 'in',\n",
       " 'natural',\n",
       " 'language',\n",
       " 'processing',\n",
       " '.',\n",
       " 'It',\n",
       " 'includes',\n",
       " 'tasks',\n",
       " 'like',\n",
       " 'stop',\n",
       " 'word',\n",
       " 'removal',\n",
       " 'and',\n",
       " 'stemming',\n",
       " '.']"
      ]
     },
     "execution_count": 10,
     "metadata": {},
     "output_type": "execute_result"
    }
   ],
   "source": [
    "import nltk\n",
    "from nltk.corpus import stopwords\n",
    "from nltk.stem import PorterStemmer\n",
    "nltk.download('stopwords')\n",
    "\n",
    "text_document = \"Text preprocessing is an essential step in natural language processing. It includes tasks like stop word removal and stemming.\"\n",
    "\n",
    "# Tokenize the text\n",
    "words = nltk.word_tokenize(text_document)\n",
    "words"
   ]
  },
  {
   "cell_type": "code",
   "execution_count": 11,
   "id": "105084cf",
   "metadata": {},
   "outputs": [
    {
     "data": {
      "text/plain": [
       "['text',\n",
       " 'preprocess',\n",
       " 'essenti',\n",
       " 'step',\n",
       " 'natur',\n",
       " 'languag',\n",
       " 'process',\n",
       " '.',\n",
       " 'includ',\n",
       " 'task',\n",
       " 'like',\n",
       " 'stop',\n",
       " 'word',\n",
       " 'remov',\n",
       " 'stem',\n",
       " '.']"
      ]
     },
     "execution_count": 11,
     "metadata": {},
     "output_type": "execute_result"
    }
   ],
   "source": [
    "# Initialize the Porter Stemmer\n",
    "stemmer = PorterStemmer()\n",
    "\n",
    "# Remove stopwords and apply stemming\n",
    "processed_words = [stemmer.stem(word) for word in words if word.lower() not in stopwords.words('english')]\n",
    "processed_words"
   ]
  },
  {
   "cell_type": "code",
   "execution_count": 12,
   "id": "5e2fe204",
   "metadata": {},
   "outputs": [
    {
     "data": {
      "text/plain": [
       "'text preprocess essenti step natur languag process . includ task like stop word remov stem .'"
      ]
     },
     "execution_count": 12,
     "metadata": {},
     "output_type": "execute_result"
    }
   ],
   "source": [
    "# Join the processed words back into a string\n",
    "processed_text = ' '.join(processed_words)\n",
    "processed_text"
   ]
  },
  {
   "cell_type": "code",
   "execution_count": null,
   "id": "58fd7b07",
   "metadata": {},
   "outputs": [],
   "source": []
  }
 ],
 "metadata": {
  "kernelspec": {
   "display_name": "Python 3 (ipykernel)",
   "language": "python",
   "name": "python3"
  },
  "language_info": {
   "codemirror_mode": {
    "name": "ipython",
    "version": 3
   },
   "file_extension": ".py",
   "mimetype": "text/x-python",
   "name": "python",
   "nbconvert_exporter": "python",
   "pygments_lexer": "ipython3",
   "version": "3.9.12"
  }
 },
 "nbformat": 4,
 "nbformat_minor": 5
}
